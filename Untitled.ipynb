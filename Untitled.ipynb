{
 "cells": [
  {
   "cell_type": "code",
   "execution_count": null,
   "id": "3cd1ee56-2a69-4bb8-827a-54749c628b5f",
   "metadata": {},
   "outputs": [],
   "source": [
    "my_variable = {\n",
    "    'string': 'Hello, World!',\n",
    "    'list': [1, 2, 3, 4],\n",
    "    'float': 3.14,\n",
    "    'tuple': (1, 'a')\n",
    "}"
   ]
  },
  {
   "cell_type": "code",
   "execution_count": null,
   "id": "d8230e08-15e4-44a9-8181-1baca6b496d3",
   "metadata": {},
   "outputs": [],
   "source": [
    "var1 = ' '\n",
    "This variable is a string containing a single space character.\n",
    "\n",
    "var2 = '[ DS , ML , Python]'\n",
    "This is a string that represents a list-like structure.\n",
    "\n",
    "var3 = [ 'DS' , 'ML' , 'Python' ]\n",
    "This variable is a genuine Python list containing three string elements:\n",
    "\n",
    "var4 = 1.\n",
    "This variable is a float with a value of 1.0."
   ]
  },
  {
   "cell_type": "raw",
   "id": "80b8dfde-1d4e-4034-98a2-53f5d5707712",
   "metadata": {},
   "source": [
    "# Q3. Explain the use of the following operators using an example:\n",
    "# (i) /\n",
    "# (ii) %\n",
    "# (iii) //\n",
    "# (iv) **\n",
    "(i) This operator divides the left operand by the right operand, giving a precise floating-point result.\n",
    "\n",
    "(ii)The modulo operator (%) returns the remainder of a division operation.\n",
    "(iii)The floor division operator (//) performs division and rounds down to the nearest integer. \n",
    "(iv)The exponentiation operator (**) raises the left operand to the power of the right operand."
   ]
  },
  {
   "cell_type": "markdown",
   "id": "78b47146-dd6e-4813-8d3c-aca9e4c66f96",
   "metadata": {},
   "source": [
    "<!-- Q4. Create a list of length 10 of your choice containing multiple types of data. Using for loop print the\n",
    "element and its data type. -->"
   ]
  },
  {
   "cell_type": "code",
   "execution_count": 5,
   "id": "2e7e97d1-97ea-4dd6-8416-e420b356f836",
   "metadata": {},
   "outputs": [
    {
     "name": "stdout",
     "output_type": "stream",
     "text": [
      "Element: 1, Type: <class 'int'>\n",
      "Element: hello, Type: <class 'str'>\n",
      "Element: 3.14, Type: <class 'float'>\n",
      "Element: True, Type: <class 'bool'>\n",
      "Element: None, Type: <class 'NoneType'>\n",
      "Element: [1, 2, 3], Type: <class 'list'>\n",
      "Element: {'key': 'value'}, Type: <class 'dict'>\n",
      "Element: (1, 2), Type: <class 'tuple'>\n",
      "Element: b'bytes', Type: <class 'bytes'>\n",
      "Element: {1, 2, 3}, Type: <class 'set'>\n"
     ]
    }
   ],
   "source": [
    "my_list = [1, 'hello', 3.14, True, None, [1, 2, 3], {'key': 'value'}, (1, 2), b'bytes', set([1, 2, 3])]\n",
    "for element in my_list:\n",
    "    print(f'Element: {element}, Type: {type(element)}')"
   ]
  },
  {
   "cell_type": "code",
   "execution_count": 7,
   "id": "37a6fb67-72ee-44b8-be7e-c6cfcab564af",
   "metadata": {},
   "outputs": [],
   "source": [
    "# Q5. Using a while loop, verify if the number A is purely divisible by number B and if so then how many\n",
    "# times it can be divisible.\n",
    "\n",
    "def check_divisibility(A, B):\n",
    "    count = 0\n",
    "    while A >= B:\n",
    "        if A % B == 0:\n",
    "            count += 1\n",
    "            A = A // B\n",
    "        else:\n",
    "            break\n",
    "    return count"
   ]
  },
  {
   "cell_type": "code",
   "execution_count": 9,
   "id": "748c4c08-afe4-419d-b426-aad9b21bcd96",
   "metadata": {},
   "outputs": [
    {
     "name": "stdout",
     "output_type": "stream",
     "text": [
      "A = 100, B = 3: Divisible 0 times\n",
      "A = 50, B = 3: Divisible 0 times\n",
      "A = 27, B = 3: Divisible 3 times\n",
      "A = 33, B = 3: Divisible 1 times\n"
     ]
    }
   ],
   "source": [
    "A_values = [100, 50, 27, 33]\n",
    "B = 3\n",
    "\n",
    "for A in A_values:\n",
    "    divisibility_count = check_divisibility(A, B)\n",
    "    print(f\"A = {A}, B = {B}: Divisible {divisibility_count} times\")"
   ]
  },
  {
   "cell_type": "code",
   "execution_count": 11,
   "id": "4fb11686-74d9-4848-bc0f-f84b79b05d8c",
   "metadata": {},
   "outputs": [
    {
     "name": "stdout",
     "output_type": "stream",
     "text": [
      "67 is not divisible by 3\n",
      "90 is divisible by 3\n",
      "72 is divisible by 3\n",
      "92 is not divisible by 3\n",
      "30 is divisible by 3\n",
      "50 is not divisible by 3\n",
      "43 is not divisible by 3\n",
      "92 is not divisible by 3\n",
      "48 is divisible by 3\n",
      "47 is not divisible by 3\n",
      "43 is not divisible by 3\n",
      "14 is not divisible by 3\n",
      "77 is not divisible by 3\n",
      "26 is not divisible by 3\n",
      "4 is not divisible by 3\n",
      "2 is not divisible by 3\n",
      "6 is divisible by 3\n",
      "9 is divisible by 3\n",
      "69 is divisible by 3\n",
      "76 is not divisible by 3\n",
      "72 is divisible by 3\n",
      "49 is not divisible by 3\n",
      "84 is divisible by 3\n",
      "80 is not divisible by 3\n",
      "81 is divisible by 3\n"
     ]
    }
   ],
   "source": [
    "# Q6. Create a list containing 25 int type data. Using for loop and if-else condition print if the element is\n",
    "# divisible by 3 or not.\n",
    "import random\n",
    "\n",
    "data_list = [random.randint(1, 100) for _ in range(25)]\n",
    "for element in data_list:\n",
    "    if element % 3 == 0:\n",
    "        print(f'{element} is divisible by 3')\n",
    "    else:\n",
    "        print(f'{element} is not divisible by 3')"
   ]
  },
  {
   "cell_type": "code",
   "execution_count": null,
   "id": "84a260dc-4bad-4c2e-85a6-0aa78b5ad534",
   "metadata": {},
   "outputs": [],
   "source": [
    "# Q7. What do you understand about mutable and immutable data types? Give examples for both showing\n",
    "# this property.\n",
    "Mutable and immutable data types are fundamental concepts in Python that describe whether an object can be changed after it's created.\n",
    "Examples of immutable data types in Python include:\n",
    "Integers (int)\n",
    "Floating-point numbers (float)\n",
    "Strings (str)\n",
    "Tuples\n",
    "Frozen sets"
   ]
  }
 ],
 "metadata": {
  "kernelspec": {
   "display_name": "Python 3 (ipykernel)",
   "language": "python",
   "name": "python3"
  },
  "language_info": {
   "codemirror_mode": {
    "name": "ipython",
    "version": 3
   },
   "file_extension": ".py",
   "mimetype": "text/x-python",
   "name": "python",
   "nbconvert_exporter": "python",
   "pygments_lexer": "ipython3",
   "version": "3.12.4"
  }
 },
 "nbformat": 4,
 "nbformat_minor": 5
}
